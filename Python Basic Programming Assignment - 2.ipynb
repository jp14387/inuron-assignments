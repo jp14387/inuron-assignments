{
 "cells": [
  {
   "cell_type": "code",
   "execution_count": 52,
   "metadata": {},
   "outputs": [
    {
     "name": "stdout",
     "output_type": "stream",
     "text": [
      "enter kilometer:  10\n",
      "miles:  6.215040397762586\n"
     ]
    }
   ],
   "source": [
    "#Answer no :- 1\n",
    "km=input('enter kilometer:  ')\n",
    "jig=float(km)/1.609\n",
    "print('miles: ',jig)"
   ]
  },
  {
   "cell_type": "code",
   "execution_count": 56,
   "metadata": {},
   "outputs": [
    {
     "name": "stdout",
     "output_type": "stream",
     "text": [
      "celsius :37\n",
      "fehrenheit:  98.60000000000001\n"
     ]
    }
   ],
   "source": [
    "#Answer no :- 2\n",
    "a=input('celsius :')\n",
    "jig=float(a)*1.8+32\n",
    "print('fehrenheit: ',jig)"
   ]
  },
  {
   "cell_type": "code",
   "execution_count": 12,
   "metadata": {},
   "outputs": [
    {
     "name": "stdout",
     "output_type": "stream",
     "text": [
      "enter year:  2021\n",
      "enter month:  4\n",
      "     April 2021\n",
      "Mo Tu We Th Fr Sa Su\n",
      "          1  2  3  4\n",
      " 5  6  7  8  9 10 11\n",
      "12 13 14 15 16 17 18\n",
      "19 20 21 22 23 24 25\n",
      "26 27 28 29 30\n",
      "\n"
     ]
    }
   ],
   "source": [
    "#Answer no :- 3\n",
    "import calendar\n",
    "yy=int(input('enter year:  '))\n",
    "mm=int(input('enter month:  '))\n",
    "print(calendar.month(yy,mm))"
   ]
  },
  {
   "cell_type": "code",
   "execution_count": 10,
   "metadata": {},
   "outputs": [
    {
     "name": "stdout",
     "output_type": "stream",
     "text": [
      "value of a:  1\n",
      "value of b:  5\n",
      "value of c:  3\n",
      "The solution are (-4.302775637731995+0j) and (-0.6972243622680054+0j)\n"
     ]
    }
   ],
   "source": [
    "#Answer no :- 4\n",
    "import cmath\n",
    "a=int(input(\"value of a:  \"))\n",
    "b=int(input(\"value of b:  \"))\n",
    "c=int(input(\"value of c:  \"))\n",
    "d=(b**2)-(4*a*c)\n",
    "\n",
    "sol1 = (-b-cmath.sqrt(d))/(2*a)\n",
    "sol2 = (-b+cmath.sqrt(d))/(2*a)\n",
    "print('The solution are {0} and {1}'.format(sol1,sol2))"
   ]
  },
  {
   "cell_type": "code",
   "execution_count": 18,
   "metadata": {},
   "outputs": [
    {
     "data": {
      "text/plain": [
       "(20, 10)"
      ]
     },
     "execution_count": 18,
     "metadata": {},
     "output_type": "execute_result"
    }
   ],
   "source": [
    "#Answer no :- 5\n",
    "a=10\n",
    "b=20\n",
    "a,b=b,a\n",
    "a,b"
   ]
  },
  {
   "cell_type": "code",
   "execution_count": null,
   "metadata": {},
   "outputs": [],
   "source": []
  }
 ],
 "metadata": {
  "kernelspec": {
   "display_name": "Python 3",
   "language": "python",
   "name": "python3"
  },
  "language_info": {
   "codemirror_mode": {
    "name": "ipython",
    "version": 3
   },
   "file_extension": ".py",
   "mimetype": "text/x-python",
   "name": "python",
   "nbconvert_exporter": "python",
   "pygments_lexer": "ipython3",
   "version": "3.8.5"
  }
 },
 "nbformat": 4,
 "nbformat_minor": 4
}

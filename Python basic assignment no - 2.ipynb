{
 "cells": [
  {
   "cell_type": "markdown",
   "metadata": {},
   "source": [
    "# Python Basic assignment no :- 2"
   ]
  },
  {
   "cell_type": "raw",
   "metadata": {},
   "source": [
    "Question no :- 1\n",
    "What are the two values of the boolean data type? how do you write them?\n",
    "\n",
    "Answer :- (1) true , We can write it as True.\n",
    "          (2) false , we can write it as False."
   ]
  },
  {
   "cell_type": "raw",
   "metadata": {},
   "source": [
    "Question no :- 2\n",
    "What are the three different types of boolean operators?\n",
    "\n",
    "Answer :- (1)AND,(2)OR,(3)NOTE  are the three different types of boolean operators."
   ]
  },
  {
   "cell_type": "raw",
   "metadata": {},
   "source": [
    "Question no :- 3\n",
    "Make a list of each boolean operator's truth tables(i.e. every possible combination of boolean values for the operator and what it evaluate).\n",
    "\n",
    "Answer :- True and True = True\n",
    "          True and False = False\n",
    "          False and True = False\n",
    "          False and False = False\n",
    "          True or True = True\n",
    "          True or False = True\n",
    "          False or True = True\n",
    "          False or False = False\n",
    "          not True = False\n",
    "          not False = True\n"
   ]
  },
  {
   "cell_type": "raw",
   "metadata": {},
   "source": [
    "Question no 4 :- \n",
    "What are the Values of the following expression?\n",
    "(5>4) and (3==5)\n",
    "not (5 > 4)\n",
    "(5 > 4) or (3 == 5)\n",
    "not ((5 > 4) or (3 == 5))\n",
    "(True and True) and (True == False)\n",
    "(not False) or (not True)\n",
    "\n",
    "Answer :- (1) (5>4) and (3==5) = False\n",
    "          (2)  not (5 > 4)     = False\n",
    "          (3) (5 > 4) or (3 == 5) = True\n",
    "          (4) not ((5 > 4) or (3 == 5)) = False\n",
    "          (5) (True and True) and (True == False) = False\n",
    "          (6) (not False) or (not True) = True"
   ]
  },
  {
   "cell_type": "raw",
   "metadata": {},
   "source": [
    "Question no :- 5\n",
    "Waht are the six comparison operators?\n",
    "\n",
    "Answer :- (1) less than (<)\n",
    "          (2) greater than (>)\n",
    "          (3) less than or equal to (<=)\n",
    "          (4) greater than or equal to (>=)\n",
    "          (5) equal to (==)\n",
    "          (6) not equal to (!=)\n"
   ]
  },
  {
   "cell_type": "raw",
   "metadata": {},
   "source": [
    "Question no :- 6\n",
    "How do you tell the difference between the equal to and assignment operators? Describe a condition and when you would use one.\n",
    "\n",
    "Answer :- equal to (==) is use for comparing two values, while                    assignment(=) is use to store the value in a perticuler                variable.\n",
    "           equal to :- 5==4+1\n",
    "           assignment :- a=5\n",
    "           "
   ]
  },
  {
   "cell_type": "raw",
   "metadata": {},
   "source": [
    "Question no :- 7\n",
    "Identify the three blocks in this code:\n",
    "spam = 0\n",
    "if spam == 10:\n",
    "print('eggs')\n",
    "if spam > 5:\n",
    "print('bacon')\n",
    "else:\n",
    "print('ham')\n",
    "print('spam')\n",
    "print('spam')\n",
    "\n",
    "\n",
    "Answer :- (1) if spam==10\n",
    "          (2) if spam > 5\n",
    "          (3) else"
   ]
  },
  {
   "cell_type": "raw",
   "metadata": {},
   "source": [
    "Question no 8 :- \n",
    "Write code that prints Hello if 1 is stored in spam,print Howdy if 2 is stored in spam, and print greetings! if anything else stored in spam. \n",
    "\n",
    "Answer :- \n",
    "if spam == 1:\n",
    "    print(\"Hello\")\n",
    "if spam == 2:\n",
    "    print(\"Howdy\")\n",
    "else:\n",
    "    print(\"Greetings\")\n"
   ]
  },
  {
   "cell_type": "raw",
   "metadata": {},
   "source": [
    "Question no 9 :- \n",
    "if your programme is stuck in endless loop,what keys you will press?\n",
    "\n",
    "Answer :- CTRL+C"
   ]
  },
  {
   "cell_type": "raw",
   "metadata": {},
   "source": [
    "Question no :- 10\n",
    "How can you tell the difference between break and continue?\n",
    "\n",
    "Answer :- 'break' statement is usually apply to break the loop,\n",
    "           while 'continue' statement move the execution to starting               point of loop."
   ]
  },
  {
   "cell_type": "raw",
   "metadata": {},
   "source": [
    "Question no :- 11\n",
    "In the for loop, What is the difference between range(10),range(0,10),and range(0,10,1)?\n",
    "\n",
    "Answer :- All three are gives us the same result.range(10) is range of           0 to 10(excluding 10), (0,10) explicitly tells range start             from 0, (0,10,1) explicitly tells range is increase by 1                variable."
   ]
  },
  {
   "cell_type": "raw",
   "metadata": {},
   "source": [
    "Question no :- 12\n",
    "Write a Short programme that print the numbers 1 to 10 using a for loop. Then write an equivalent programme that prints the numbers 1 to 10 using a while loop.\n",
    "    \n",
    "Answer :- (1)for i in range(1,11):\n",
    "                      print(i)\n",
    "          (2)i=1\n",
    "             while i<=10:\n",
    "                 print(i)\n",
    "                 i=i+1"
   ]
  },
  {
   "cell_type": "raw",
   "metadata": {},
   "source": [
    "Question no :- 13\n",
    "if you had function named bacon() inside a module named spam,how would you call it after importing spam?\n",
    "\n",
    "Answer :- spam.bacon()"
   ]
  },
  {
   "cell_type": "code",
   "execution_count": null,
   "metadata": {},
   "outputs": [],
   "source": []
  }
 ],
 "metadata": {
  "kernelspec": {
   "display_name": "Python 3",
   "language": "python",
   "name": "python3"
  },
  "language_info": {
   "codemirror_mode": {
    "name": "ipython",
    "version": 3
   },
   "file_extension": ".py",
   "mimetype": "text/x-python",
   "name": "python",
   "nbconvert_exporter": "python",
   "pygments_lexer": "ipython3",
   "version": "3.8.5"
  }
 },
 "nbformat": 4,
 "nbformat_minor": 4
}

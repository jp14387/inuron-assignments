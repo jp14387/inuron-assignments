{
 "cells": [
  {
   "cell_type": "markdown",
   "metadata": {},
   "source": [
    "# Python basic Assignment no : 4"
   ]
  },
  {
   "cell_type": "raw",
   "metadata": {},
   "source": [
    "#Answer no :- 1\n",
    "It is Empty list.[]Where you can include any value,string,integer etc. "
   ]
  },
  {
   "cell_type": "raw",
   "metadata": {},
   "source": [
    "#Answer no :- 2\n",
    "spam=[2,4,6,8,10]\n",
    "Write down as spam[3]=\"hello\"\n"
   ]
  },
  {
   "cell_type": "raw",
   "metadata": {},
   "source": [
    "#Answer no :- 3\n",
    "Value of spam[int(int('3' * 2) / 11)] is :- \"d\""
   ]
  },
  {
   "cell_type": "raw",
   "metadata": {},
   "source": [
    "#Answer no :- 4\n",
    "Value of spam[-1] is :- \"d\""
   ]
  },
  {
   "cell_type": "raw",
   "metadata": {},
   "source": [
    "#Answer no :- 5\n",
    "Value of spam[:2] is :- ['a', 'b']"
   ]
  },
  {
   "cell_type": "raw",
   "metadata": {},
   "source": [
    "#Answer no :- 6\n",
    "Value of bacon.index('cat') is :- 1\n"
   ]
  },
  {
   "cell_type": "raw",
   "metadata": {},
   "source": [
    "#Answer no :- 7\n",
    "bacon.append(99)\n",
    "bacon=[3.14,'cat',11,'cat',True,99]"
   ]
  },
  {
   "cell_type": "raw",
   "metadata": {},
   "source": [
    "#Answer no :- 8\n",
    "bacon.remove('cat')\n",
    "[3.14, 11, 'cat', True]"
   ]
  },
  {
   "cell_type": "raw",
   "metadata": {},
   "source": [
    "#Answer no :- 9\n",
    "List concatenation operator is : '+'\n",
    "list replication operator is : '*'"
   ]
  },
  {
   "cell_type": "raw",
   "metadata": {},
   "source": [
    "#Answer no :- 10\n",
    "List method append() includes the value at the end of list,\n",
    "while insert() includes the value at anywhere in list."
   ]
  },
  {
   "cell_type": "raw",
   "metadata": {},
   "source": [
    "#Answer no :- 11\n",
    "'del' and 'remove()' are the two methods for removing items from list."
   ]
  },
  {
   "cell_type": "raw",
   "metadata": {},
   "source": [
    "#Answer no :- 12\n",
    "list and string both have indexing and slices,both can be used in for loops,Both can be concatenated and replicated,both can be passed to len()."
   ]
  },
  {
   "cell_type": "raw",
   "metadata": {},
   "source": [
    "#Answer no :- 13\n",
    "lists are mutable , while tuples are immutable."
   ]
  },
  {
   "cell_type": "raw",
   "metadata": {},
   "source": [
    "#Answer no :- 14\n",
    "Tuple value that contains only the integer 42 can be written as (42,)"
   ]
  },
  {
   "cell_type": "raw",
   "metadata": {},
   "source": [
    "#Answer no :- 15\n",
    "We can get list values in tuple form by tuple(),\n",
    "and can get tuple values in list form by list()."
   ]
  },
  {
   "cell_type": "raw",
   "metadata": {},
   "source": [
    "#Answer no :- 16\n",
    "they contain references to list values."
   ]
  },
  {
   "cell_type": "raw",
   "metadata": {},
   "source": [
    "#Answer no :- 17\n",
    "copy.copy() can copy list.\n",
    "while copy.deepcopy can copy list inside the list."
   ]
  },
  {
   "cell_type": "code",
   "execution_count": null,
   "metadata": {},
   "outputs": [],
   "source": []
  }
 ],
 "metadata": {
  "kernelspec": {
   "display_name": "Python 3",
   "language": "python",
   "name": "python3"
  },
  "language_info": {
   "codemirror_mode": {
    "name": "ipython",
    "version": 3
   },
   "file_extension": ".py",
   "mimetype": "text/x-python",
   "name": "python",
   "nbconvert_exporter": "python",
   "pygments_lexer": "ipython3",
   "version": "3.8.5"
  }
 },
 "nbformat": 4,
 "nbformat_minor": 4
}

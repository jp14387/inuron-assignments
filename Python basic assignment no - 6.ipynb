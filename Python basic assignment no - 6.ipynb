{
 "cells": [
  {
   "cell_type": "markdown",
   "metadata": {},
   "source": [
    "# Python basic assignment no - 6"
   ]
  },
  {
   "cell_type": "raw",
   "metadata": {},
   "source": [
    "#Answer no :- 1\n",
    "Escape characters reprasents character in a string value,which is difficult to type in the code."
   ]
  },
  {
   "cell_type": "raw",
   "metadata": {},
   "source": [
    "#Answer no :- 2\n",
    "The escape character '\\n' stand for new line,\n",
    "The escape character '\\t' stand for tab."
   ]
  },
  {
   "cell_type": "raw",
   "metadata": {},
   "source": [
    "#Answer no:- 3\n",
    "The '\\\\' escape character includes backslash character in string."
   ]
  },
  {
   "cell_type": "raw",
   "metadata": {},
   "source": [
    "#Answer no :- 4\n",
    "The single quote character not escaped problem because string is in the double quote."
   ]
  },
  {
   "cell_type": "raw",
   "metadata": {},
   "source": [
    "#Answer no :- 5\n",
    "Multiline string allows you to write new line without \\n character."
   ]
  },
  {
   "cell_type": "raw",
   "metadata": {},
   "source": [
    "#Answer no :- 6\n",
    "(1) 'Hello,World!'[1] = 'e'\n",
    "(2) 'Hello,world!'[0:5] = 'Hello'\n",
    "(3) 'Hello,world!'[:5] = 'Hello'\n",
    "(4) 'Hello world!'[3:] = 'lo,world!'"
   ]
  },
  {
   "cell_type": "raw",
   "metadata": {},
   "source": [
    "#Answer no :- 7\n",
    "(1) 'Hello'.upper() = 'HELLO'\n",
    "(2) 'Hello'.upper().isupper() = True\n",
    "(3) 'Hello'.upper().lower() = 'hello'"
   ]
  },
  {
   "cell_type": "raw",
   "metadata": {},
   "source": [
    "#Answer no :- 8\n",
    "(1) ['Remember,remember,the', 'fifth', 'of', 'july.']\n",
    "(2) 'there-can-only-one."
   ]
  },
  {
   "cell_type": "raw",
   "metadata": {},
   "source": [
    "#Answer no :- 9\n",
    "Method for right justifying is = rjust()\n",
    "Method for left justifying is = ljust()\n",
    "Method for centering is = center()"
   ]
  },
  {
   "cell_type": "raw",
   "metadata": {},
   "source": [
    "#Answer no :- 10\n",
    "The lstrip() and the rstrip() is the way to remove whitespace from start and end."
   ]
  }
 ],
 "metadata": {
  "kernelspec": {
   "display_name": "Python 3",
   "language": "python",
   "name": "python3"
  },
  "language_info": {
   "codemirror_mode": {
    "name": "ipython",
    "version": 3
   },
   "file_extension": ".py",
   "mimetype": "text/x-python",
   "name": "python",
   "nbconvert_exporter": "python",
   "pygments_lexer": "ipython3",
   "version": "3.8.5"
  }
 },
 "nbformat": 4,
 "nbformat_minor": 4
}

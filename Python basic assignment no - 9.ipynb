{
 "cells": [
  {
   "cell_type": "markdown",
   "metadata": {},
   "source": [
    "# Python basic assignment no - 9"
   ]
  },
  {
   "cell_type": "code",
   "execution_count": null,
   "metadata": {},
   "outputs": [],
   "source": [
    "#Answer no:- 1\n",
    "The relative path refers to the programes current working directory."
   ]
  },
  {
   "cell_type": "code",
   "execution_count": null,
   "metadata": {},
   "outputs": [],
   "source": [
    "#Answer no:- 2\n",
    "The Absolute path start with the root folder of the operating system."
   ]
  },
  {
   "cell_type": "code",
   "execution_count": null,
   "metadata": {},
   "outputs": [],
   "source": [
    "#Answer no:- 3\n",
    "The function os.getcwd() is the way to get current working diractory, and os.chdir() check whether directory is present in the given path or not."
   ]
  },
  {
   "cell_type": "code",
   "execution_count": null,
   "metadata": {},
   "outputs": [],
   "source": [
    "#Answer no:- 4\n",
    "The single .(dot) for the folder name is the shorthand for \"this directory\" and two ..(dot,dot) means the parent folder."
   ]
  },
  {
   "cell_type": "code",
   "execution_count": null,
   "metadata": {},
   "outputs": [],
   "source": [
    "#Answer no:- 5\n",
    "in c:\\bacon\\eggs\\spam.txt, the dir name is \"c:\\bacon\\eggs\" and the base name is \"spam.txt\""
   ]
  },
  {
   "cell_type": "code",
   "execution_count": null,
   "metadata": {},
   "outputs": [],
   "source": [
    "#Answer no:- 6\n",
    "The first mode is the default one in which write just path and dir name to open, the second one is addind 'r' in the end of path , and the third one is in write mode where you can open the file."
   ]
  },
  {
   "cell_type": "code",
   "execution_count": null,
   "metadata": {},
   "outputs": [],
   "source": [
    "#Answer no:- 7\n",
    "if an existing file is open in write mode then you can modify and add contant in file."
   ]
  },
  {
   "cell_type": "code",
   "execution_count": null,
   "metadata": {},
   "outputs": [],
   "source": [
    "#Answer no:- 8\n",
    "the read() method returns the string which stored in file , the readlines() method is use to get a list of string values from the file,one string from the each line of text."
   ]
  },
  {
   "cell_type": "code",
   "execution_count": null,
   "metadata": {},
   "outputs": [],
   "source": [
    "#Answer no:- 9\n",
    "A dictionary value,it has keys and values, along with keys() and values() methods that work similarly to the dictionary methods of the same names.\n"
   ]
  }
 ],
 "metadata": {
  "kernelspec": {
   "display_name": "Python 3 (ipykernel)",
   "language": "python",
   "name": "python3"
  },
  "language_info": {
   "codemirror_mode": {
    "name": "ipython",
    "version": 3
   },
   "file_extension": ".py",
   "mimetype": "text/x-python",
   "name": "python",
   "nbconvert_exporter": "python",
   "pygments_lexer": "ipython3",
   "version": "3.9.7"
  }
 },
 "nbformat": 4,
 "nbformat_minor": 4
}

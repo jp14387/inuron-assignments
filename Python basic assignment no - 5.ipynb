{
 "cells": [
  {
   "cell_type": "markdown",
   "metadata": {},
   "source": [
    "# Python basic assignment no - 5"
   ]
  },
  {
   "cell_type": "raw",
   "metadata": {},
   "source": [
    "#Answer no :- 1\n",
    "Empty dictionary code is looks like two curly bracket : {}"
   ]
  },
  {
   "cell_type": "raw",
   "metadata": {},
   "source": [
    "#Answer no :- 2\n",
    "dictionary value is : {'foo':42}"
   ]
  },
  {
   "cell_type": "raw",
   "metadata": {},
   "source": [
    "#Answer no :- 3\n",
    "The items stored in list is in orderd ,and stored in squere bracket:[] while in dictionary items are unorderd stored and stored in curly bracket:{}."
   ]
  },
  {
   "cell_type": "raw",
   "metadata": {},
   "source": [
    "#Answer no :- 4\n",
    "it is shows us 'keyerror' massage."
   ]
  },
  {
   "cell_type": "raw",
   "metadata": {},
   "source": [
    "#Answer no :- 5\n",
    "There is no difference. The in operator checks whether a value exists as a key in the dictionary."
   ]
  },
  {
   "cell_type": "raw",
   "metadata": {},
   "source": [
    "#Answer no :- 6\n",
    "'cat' in spam checks whether there is a 'cat' key in the dictionary, while 'cat' in spam.values() checks whether there is a value 'cat' for one of the keys in spam."
   ]
  },
  {
   "cell_type": "raw",
   "metadata": {},
   "source": [
    "#Answer no :- 7\n",
    "spam.setdefault('color','black')"
   ]
  },
  {
   "cell_type": "raw",
   "metadata": {},
   "source": [
    "#Answer no :- 8\n",
    "pprint.pprint()"
   ]
  },
  {
   "cell_type": "code",
   "execution_count": null,
   "metadata": {},
   "outputs": [],
   "source": []
  }
 ],
 "metadata": {
  "kernelspec": {
   "display_name": "Python 3",
   "language": "python",
   "name": "python3"
  },
  "language_info": {
   "codemirror_mode": {
    "name": "ipython",
    "version": 3
   },
   "file_extension": ".py",
   "mimetype": "text/x-python",
   "name": "python",
   "nbconvert_exporter": "python",
   "pygments_lexer": "ipython3",
   "version": "3.8.5"
  }
 },
 "nbformat": 4,
 "nbformat_minor": 4
}

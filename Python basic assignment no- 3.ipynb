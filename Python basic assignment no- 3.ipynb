{
 "cells": [
  {
   "cell_type": "markdown",
   "metadata": {},
   "source": [
    "# pytho assignment no-3"
   ]
  },
  {
   "cell_type": "raw",
   "metadata": {},
   "source": [
    "Question no 1:- \n",
    "Why are functions advantageous to have in your programmes?\n",
    "\n",
    "Answer :- Functions reduce the need for duplications of code, it helps to make programs shorter,easier to read,easy to               update."
   ]
  },
  {
   "cell_type": "raw",
   "metadata": {},
   "source": [
    "Question no 2:- \n",
    "When does the code in a function run: when it's specified or when it's called?\n",
    "\n",
    "Answer :- code in the function run when it's called."
   ]
  },
  {
   "cell_type": "raw",
   "metadata": {},
   "source": [
    "Question no 3:-\n",
    "What statement creates a function?\n",
    "\n",
    "Answer :- The 'def' statement creates a function."
   ]
  },
  {
   "cell_type": "raw",
   "metadata": {},
   "source": [
    "Question no 4:-\n",
    "What is the difference between a function and a function call?\n",
    "\n",
    "Answer :- A function is a block of code that does a particular operation and returns a result,\n",
    "          A function call is the code used to pass control to a function."
   ]
  },
  {
   "cell_type": "raw",
   "metadata": {},
   "source": [
    "Question no 5:- \n",
    "How many global scopes are there in a python program?How many local scopes?\n",
    "\n",
    "Answer :- one global scope.\n",
    "          four local scopes."
   ]
  },
  {
   "cell_type": "raw",
   "metadata": {},
   "source": [
    "Question no 6:- \n",
    "What happens to variables in local scope when the function call returns?\n",
    "\n",
    "Answer :- When Function call returns, the local scope is destroyed,and all the variable in it are forgotten."
   ]
  },
  {
   "cell_type": "raw",
   "metadata": {},
   "source": [
    "Question no 7 :- \n",
    "What is the concept of a return value? is it possible to have a return value in expression?\n",
    "\n",
    "Answer :- A return value is the value that a function call evaluates to, like any of value,\n",
    "          Return value can be used as part of an expression."
   ]
  },
  {
   "cell_type": "raw",
   "metadata": {},
   "source": [
    "Question no 8 :-\n",
    "If a function does not have a return statement,what is the return value of a call to that function?\n",
    "\n",
    "Answer :- if function does not have return statement than return value of call is 'none'.\n"
   ]
  },
  {
   "cell_type": "raw",
   "metadata": {},
   "source": [
    "Question no 9:- \n",
    "How do you make a function variable refer to the global variable?\n",
    "\n",
    "Answer :- A global keyword can use for make function variable to global variable."
   ]
  },
  {
   "cell_type": "raw",
   "metadata": {},
   "source": [
    "Question no 10:- \n",
    "What is the data type of none?\n",
    "\n",
    "Answer :- 'none type' is the data type of none."
   ]
  },
  {
   "cell_type": "raw",
   "metadata": {},
   "source": [
    "Question no 11:-\n",
    "What does the sentence import areallyourpetsnamederic do?\n",
    "\n",
    "Answer :- that statement imports module named 'areallyourpetsnamederic'."
   ]
  },
  {
   "cell_type": "raw",
   "metadata": {},
   "source": [
    "Question no 12 :- \n",
    "If you had a bacon() feature in a spam module, what would you call it after importing spam?\n",
    "\n",
    "Answer :- this function called as 'spam.bacon()'."
   ]
  },
  {
   "cell_type": "raw",
   "metadata": {},
   "source": [
    "Question no 13 :-\n",
    "What can you do to save programme from crashing if it encounters an error?\n",
    "\n",
    "Answer :- use 'try' clause to save a program from crashing if it encounter an error."
   ]
  },
  {
   "cell_type": "raw",
   "metadata": {},
   "source": [
    "Question no 14 :-\n",
    "What is the purpose of the try clause? What is the purpose of the except clause?\n",
    "\n",
    "Answer :- the code which could cause an error goes in the 'try' clause,\n",
    "          the code which execute if an error happens goes in the 'except' clause."
   ]
  },
  {
   "cell_type": "code",
   "execution_count": null,
   "metadata": {},
   "outputs": [],
   "source": []
  }
 ],
 "metadata": {
  "kernelspec": {
   "display_name": "Python 3",
   "language": "python",
   "name": "python3"
  },
  "language_info": {
   "codemirror_mode": {
    "name": "ipython",
    "version": 3
   },
   "file_extension": ".py",
   "mimetype": "text/x-python",
   "name": "python",
   "nbconvert_exporter": "python",
   "pygments_lexer": "ipython3",
   "version": "3.8.5"
  }
 },
 "nbformat": 4,
 "nbformat_minor": 4
}

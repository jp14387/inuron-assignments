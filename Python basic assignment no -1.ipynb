{
 "cells": [
  {
   "cell_type": "markdown",
   "metadata": {},
   "source": [
    "python basic assignment no : 1"
   ]
  },
  {
   "cell_type": "raw",
   "metadata": {},
   "source": [
    "Question no : 1\n",
    "In the below elements which of them are values or an expression? eg:- values can be\n",
    "integer or string and expressions will be mathematical operators.\n",
    "*\n",
    "\"hello\"\n",
    "-87.8\n",
    "-\n",
    "/\n",
    "+\n",
    "6\n",
    "\n",
    "Answer :- (1) * is an expressions.\n",
    "          (2) \"hello\" is a value which is string.\n",
    "          (3) -87.8  is a value which is integer.\n",
    "          (4) - is an expression.\n",
    "          (5) / is an expression.\n",
    "          (6) + is an expression.\n",
    "          (7) 6 is a value which is integer."
   ]
  },
  {
   "cell_type": "raw",
   "metadata": {},
   "source": [
    "Question no : 2\n",
    "What is the difference between string and variable?\n",
    "\n",
    "Answer :- string is a basically type of information,which can be store by variables.\n",
    "          variable is a reserved memory where different types of informations are stored.\n",
    "          a=\"jignesh\"\n",
    "          where \"a\" is a variable, and \"jignesh\" is string."
   ]
  },
  {
   "cell_type": "raw",
   "metadata": {},
   "source": [
    "Question no : 3\n",
    "Describe three different data types.\n",
    "\n",
    "Answer :- (1) integer  (e.g :- 3,4,5 etc)\n",
    "          (2) complex number (e.g :- 4+5j, 45+47s etc)\n",
    "          (3) string type (e.g :- \"jignesh\",\"inuron\" etc)"
   ]
  },
  {
   "cell_type": "raw",
   "metadata": {},
   "source": [
    "Question no : 4\n",
    "What is an expression made up of? What do all expressions do?\n",
    "\n",
    "Answer :- expression is made up of terms. A term can be a signed number, a variable, or a constant multiplied by a variable            or variables.\n",
    "          Expressions are representations of value. They are different from statement in the fact that statements do                 something while expressions are representation of value.(i.e :- string is also an expressions since it represents           the value of the string as well.)"
   ]
  },
  {
   "cell_type": "raw",
   "metadata": {},
   "source": [
    "Question no : 5\n",
    "This assignment statements, like spam = 10. What is the difference between an expression and a statement?\n",
    "\n",
    "Answer :- Expression is combination of variables,operations and values that yield a result value, on other hand statement              represents the action or command (e.g :- print statement , assignment statement)."
   ]
  },
  {
   "cell_type": "raw",
   "metadata": {},
   "source": [
    "Question no 6 :- \n",
    "After Running the following code, what does the Variable bacon contain?\n",
    "bacon=22\n",
    "bacon+1\n",
    "\n",
    "Answer :- 23"
   ]
  },
  {
   "cell_type": "raw",
   "metadata": {},
   "source": [
    "Question no 7 :- \n",
    "What should the values of the following two term be?\n",
    "'spam'+'spamspam'\n",
    "'spam'*3\n",
    "\n",
    "Answer :- values for the above two terms are same as under :\n",
    "            'spamspamspam'"
   ]
  },
  {
   "cell_type": "raw",
   "metadata": {},
   "source": [
    "Question no 8 :-\n",
    "Why is eggs a valid variable name While 100 is invalid?\n",
    "\n",
    "Answer :- Because the variable name must contains alphabats or                    alphanumeric, variable cannot be integer, that is why eggs \n",
    "           is valid one and 100 is no valid one."
   ]
  },
  {
   "cell_type": "raw",
   "metadata": {},
   "source": [
    "Question no 9 :- \n",
    "What three function can be used to get the integer, floting-point number,or string version of a value?\n",
    "\n",
    "Answer :- Function to get integer - int()\n",
    "          Function to get floting-point number - float()\n",
    "          Function to get string - str()"
   ]
  },
  {
   "cell_type": "raw",
   "metadata": {},
   "source": [
    "Question no 10 :- \n",
    "Why does this expression cause an error?How can you fix it?\n",
    "'i have eaten '+99+' burritos'\n",
    "\n",
    "Answer :- this expression cause an error Because \"+99+\" contains an             integer number 99 , and string can not concatenated with               integer so for that we have make 99 as string so for fix               this problem we can write this as under :\n",
    "          'I have eaten ' + str(99) + ' burritos.'"
   ]
  },
  {
   "cell_type": "code",
   "execution_count": null,
   "metadata": {},
   "outputs": [],
   "source": []
  }
 ],
 "metadata": {
  "kernelspec": {
   "display_name": "Python 3",
   "language": "python",
   "name": "python3"
  },
  "language_info": {
   "codemirror_mode": {
    "name": "ipython",
    "version": 3
   },
   "file_extension": ".py",
   "mimetype": "text/x-python",
   "name": "python",
   "nbconvert_exporter": "python",
   "pygments_lexer": "ipython3",
   "version": "3.8.5"
  }
 },
 "nbformat": 4,
 "nbformat_minor": 4
}
